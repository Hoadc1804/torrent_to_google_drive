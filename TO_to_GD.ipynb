{
  "cells": [
    {
      "cell_type": "markdown",
      "metadata": {
        "id": "view-in-github",
        "colab_type": "text"
      },
      "source": [
        "<a href=\"https://colab.research.google.com/github/Hoadc1804/torrent_to_google_drive/blob/main/TO_to_GD.ipynb\" target=\"_parent\"><img src=\"https://colab.research.google.com/assets/colab-badge.svg\" alt=\"Open In Colab\"/></a>"
      ]
    },
    {
      "cell_type": "markdown",
      "metadata": {
        "id": "GTGpwWGjbnDF"
      },
      "source": [
        "# How to download torrent to google drive\n"
      ]
    },
    {
      "cell_type": "markdown",
      "metadata": {
        "id": "13YvP-xWcDy0"
      },
      "source": [
        "## Step 1: Import google drive"
      ]
    },
    {
      "cell_type": "code",
      "execution_count": null,
      "metadata": {
        "id": "fjkOUPE_cApD"
      },
      "outputs": [],
      "source": [
        "from google.colab import drive\n",
        "drive.mount('/content/drive')"
      ]
    },
    {
      "cell_type": "markdown",
      "metadata": {
        "id": "n0lyZT5mccQc"
      },
      "source": [
        "## Step 2: Install module\n",
        "Libtorrent is a feature complete C++ bittorrent implementation focusing on efficiency and scalability.\n",
        "https://www.libtorrent.org/"
      ]
    },
    {
      "cell_type": "code",
      "execution_count": null,
      "metadata": {
        "id": "CDHUxfL8cDLM"
      },
      "outputs": [],
      "source": [
        "!python -m pip install --upgrade pip setuptools wheel\n",
        "!python -m pip install lbry-libtorrent"
      ]
    },
    {
      "cell_type": "markdown",
      "metadata": {
        "id": "gtpvpyngdFB1"
      },
      "source": [
        "## Step 3: Import module and set up save location"
      ]
    },
    {
      "cell_type": "code",
      "execution_count": null,
      "metadata": {
        "id": "j7891aKAdT5L"
      },
      "outputs": [],
      "source": [
        "import libtorrent as lt\n",
        "import time\n",
        "import datetime\n",
        "from IPython.display import clear_output # Clear output for better look\n",
        "\n",
        "ses = lt.session()\n",
        "ses.listen_on(6881, 6891) #here we are defining the ports on which BitTorrent works\n",
        "params = {\n",
        "    'save_path': '/content/drive/My Drive/Torrent/',\n",
        "    'storage_mode': lt.storage_mode_t(2)}\n",
        "# params means parameters\n",
        "# In paras we are defining the location on drive where we want to save the downloaded files\n",
        "# we also define storage mode, in this case we are using \"sparse allocation mode\"\n",
        "# The sparse allocation, sparse files are used, and pieces are downloaded directly to where they belong. This is the recommended (and default) mode."
      ]
    },
    {
      "cell_type": "markdown",
      "metadata": {
        "id": "4Pkp6OTsdeRk"
      },
      "source": [
        "## Step 4: Insert magnet link and download"
      ]
    },
    {
      "cell_type": "code",
      "execution_count": null,
      "metadata": {
        "id": "MheaMomwdwha"
      },
      "outputs": [],
      "source": [
        "link = input(\"Paste magnet link: \")\n",
        "\n",
        "\n",
        "handle = lt.add_magnet_uri(ses, link, params)\n",
        "ses.start_dht()\n",
        "begin = time.time()\n",
        "print(handle.has_metadata())\n",
        "while not handle.has_metadata():\n",
        "  print('Link Error!')\n",
        "  break\n",
        "else:\n",
        "  while (handle.status().state != lt.torrent_status.seeding):\n",
        "      clear_output(wait=True)\n",
        "      s = handle.status()\n",
        "      state_str = ['queued', 'checking', 'downloading metadata', \\\n",
        "              'downloading', 'finished', 'seeding', 'allocating']\n",
        "      print(f'{handle.name()} is {state_str[s.state]}')\n",
        "      print(f'{s.progress:.2%} complete (down: {s.download_rate/1000:.1f} kb/s, up: {s.upload_rate/1000:.1f} kb/s), peer: {s.num_peers}, seed: {s.num_seeds}')\n",
        "      time.sleep(2)\n",
        "\n",
        "  end = time.time()\n",
        "  print(handle.name(), \"COMPLETE\")\n",
        "\n",
        "  print(\"Elapsed Time: \",int((end-begin)//60),\"min :\", int((end-begin)%60), \"sec\")\n",
        "\n",
        "  print(datetime.datetime.now())\n"
      ]
    }
  ],
  "metadata": {
    "colab": {
      "provenance": [],
      "toc_visible": true,
      "authorship_tag": "ABX9TyOoF4JOyD35O/RilrjYilJH",
      "include_colab_link": true
    },
    "kernelspec": {
      "display_name": "Python 3",
      "name": "python3"
    },
    "language_info": {
      "name": "python"
    }
  },
  "nbformat": 4,
  "nbformat_minor": 0
}